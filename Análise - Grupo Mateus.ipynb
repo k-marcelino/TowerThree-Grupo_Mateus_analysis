{
 "cells": [
  {
   "cell_type": "markdown",
   "metadata": {},
   "source": [
    "Passo a passo:\n",
    "\n",
    "1. Extração de dados (Começar com selenium e ver se tem algum melhor):\n",
    "    - Fazer webscrapping da página: https://ofertasmateus.com/ba/juazeiro\n",
    "    - Armazenar cada loja e automatizar para procurar no google\n",
    "    - Pegar automaticamente o nome da loja e botar num df\n",
    "    - Possivelmente já pegar latitude e longitude, separar coluna de cidade, estado, bairro (granularidade)\n",
    "    - Ainda é preciso achar os concorrentes e tentar plotar tb, vish\n",
    "2. Plotar no mapa essas lojas\n",
    "3. Análise canibalismo, estratégia, etc\n",
    "    - Relacionar na estratégia com os dados demográficos:\n",
    "            - Ver as lojas muito perto e destacar no gráfico\n",
    "    - https://dados.gov.br/organization/instituto-brasileiro-de-geografia-e-estatistica-ibge?q=Demogr%C3%A1fico&sort=score+desc%2C+metadata_modified+desc\n",
    "4. Tentar Usar Classes"
   ]
  },
  {
   "cell_type": "code",
   "execution_count": 1,
   "metadata": {},
   "outputs": [],
   "source": [
    "from selenium.webdriver import Firefox, Chrome\n",
    "from time import sleep"
   ]
  },
  {
   "cell_type": "code",
   "execution_count": 3,
   "metadata": {},
   "outputs": [],
   "source": [
    "# Rever dev.ensiva - fazer igual a 2ª parte em que não precisa usar sleep\n",
    "\n",
    "# Opening browser\n",
    "f = Firefox() # Opens firefox\n",
    "\n",
    "url = 'https://ofertasmateus.com/ba/juazeiro'\n",
    "f.get(url) # opens the url defined\n",
    "\n",
    "# Waiting webpage to load\n",
    "sleep(3)"
   ]
  },
  {
   "cell_type": "code",
   "execution_count": null,
   "metadata": {},
   "outputs": [],
   "source": [
    "# Test - diferentes estados, cidades e lojas\n",
    "\n",
    "week_day = f.find_element_by_xpath('//*[@id=\"diaSegunda\"]').text\n",
    "print(week_day)"
   ]
  }
 ],
 "metadata": {
  "kernelspec": {
   "display_name": "Python 3",
   "language": "python",
   "name": "python3"
  },
  "language_info": {
   "codemirror_mode": {
    "name": "ipython",
    "version": 3
   },
   "file_extension": ".py",
   "mimetype": "text/x-python",
   "name": "python",
   "nbconvert_exporter": "python",
   "pygments_lexer": "ipython3",
   "version": "3.8.5"
  }
 },
 "nbformat": 4,
 "nbformat_minor": 4
}
