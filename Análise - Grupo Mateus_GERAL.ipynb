{
 "cells": [
  {
   "cell_type": "markdown",
   "metadata": {},
   "source": [
    "Passo a passo:\n",
    "\n",
    "1. Extração de dados (Começar com selenium e ver se tem algum melhor):\n",
    "    - Fazer webscrapping da página: https://ofertasmateus.com/ba/juazeiro\n",
    "    - Armazenar cada loja e automatizar para procurar no google\n",
    "    - Pegar automaticamente o nome da loja e botar num df\n",
    "    - Possivelmente já pegar latitude e longitude, separar coluna de cidade, estado, bairro (granularidade)\n",
    "    - Ainda é preciso achar os concorrentes e tentar plotar tb, vish\n",
    "2. Plotar no mapa essas lojas\n",
    "3. Análise canibalismo, estratégia, etc\n",
    "    - Relacionar na estratégia com os dados demográficos:\n",
    "            - Ver as lojas muito perto e destacar no gráfico\n",
    "    - https://dados.gov.br/organization/instituto-brasileiro-de-geografia-e-estatistica-ibge?q=Demogr%C3%A1fico&sort=score+desc%2C+metadata_modified+desc\n",
    "4. Tentar Usar Classes\n",
    "\n",
    "5. Comparar com censo, quantidade de pessoas no município, mas mais importante a quantidade de consumidores, tanto de renda quanto de idade, etc"
   ]
  },
  {
   "cell_type": "markdown",
   "metadata": {},
   "source": [
    "Primeiro ao invés de fazer a lista automaticamete das lojas, tentar fazer uma tabela roubada e tentar plotar no mapa\n",
    "dando certo ai volto e automatizo essa parte\n",
    "\n",
    "- Quantidade de Lojas por estado e cidade\n",
    "- Tem uma api que procura coisas no google tb, vale a pena?\n",
    "- Separar tipo de loja por cor e se der colocar o ícone da loja no mapa\n",
    "- fazer regex para separar Estado | Cidade | Endereço, etc"
   ]
  },
  {
   "cell_type": "code",
   "execution_count": 1,
   "metadata": {},
   "outputs": [],
   "source": [
    "import warnings\n",
    "warnings.filterwarnings('ignore')\n",
    "\n",
    "import pandas as pd\n",
    "import numpy as np\n",
    "import matplotlib.pyplot as plt\n",
    "%matplotlib inline\n",
    "import seaborn as sns\n",
    "import time"
   ]
  },
  {
   "cell_type": "markdown",
   "metadata": {},
   "source": [
    "## Pegando os nomes das Lojas automaticamente usando Selenium"
   ]
  },
  {
   "cell_type": "code",
   "execution_count": 5,
   "metadata": {},
   "outputs": [],
   "source": [
    "from selenium.webdriver import Firefox, Chrome\n",
    "from selenium import webdriver\n",
    "from selenium.webdriver.common.keys import Keys\n",
    "\n",
    "from time import sleep"
   ]
  },
  {
   "cell_type": "code",
   "execution_count": 6,
   "metadata": {},
   "outputs": [],
   "source": [
    "# Rever dev.ensiva - fazer igual a 2ª parte em que não precisa usar sleep\n",
    "\n",
    "# Opening browser\n",
    "f = Firefox() # Opens firefox\n",
    "\n",
    "url = 'https://ofertasmateus.com'\n",
    "f.get(url) # opens the url defined\n",
    "\n",
    "# Waiting webpage to load\n",
    "sleep(3)"
   ]
  },
  {
   "cell_type": "code",
   "execution_count": 8,
   "metadata": {},
   "outputs": [],
   "source": [
    "# Test - diferentes estados, cidades e lojas\n",
    "\n",
    "estado = f.find_element_by_xpath('/html/body/header/div/div/div[1]/div[2]/div[2]/div[2]/div[1]').text\n",
    "print(estado)"
   ]
  },
  {
   "cell_type": "code",
   "execution_count": null,
   "metadata": {},
   "outputs": [],
   "source": []
  },
  {
   "cell_type": "code",
   "execution_count": null,
   "metadata": {},
   "outputs": [],
   "source": [
    "estados = f.find_element_by_id('optEstado').text\n",
    "print(estados)"
   ]
  },
  {
   "cell_type": "code",
   "execution_count": null,
   "metadata": {},
   "outputs": [],
   "source": [
    "from selenium.webdriver.support.select import Select\n",
    "\n",
    "select = Select(f.find_element_by_id('optEstado'))\n",
    "select\n",
    "# selecionando pelo texto visivel\n",
    "#select.select_by_visible_text('Bahia')\n",
    "\n",
    "# Selecionando pelo valor\n",
    "#select.select_by_value('30632-N-PR-2')"
   ]
  },
  {
   "cell_type": "markdown",
   "metadata": {},
   "source": [
    "## Pegar endereços pelo google"
   ]
  },
  {
   "cell_type": "code",
   "execution_count": 120,
   "metadata": {},
   "outputs": [],
   "source": [
    "# Opening browser\n",
    "f = Firefox() # Opens firefox\n",
    "\n",
    "url = 'https://www.google.com/'\n",
    "f.get(url) # opens the url defined\n",
    "\n",
    "# Waiting webpage to load\n",
    "sleep(3)"
   ]
  },
  {
   "cell_type": "code",
   "execution_count": 111,
   "metadata": {},
   "outputs": [
    {
     "data": {
      "text/html": [
       "<div>\n",
       "<style scoped>\n",
       "    .dataframe tbody tr th:only-of-type {\n",
       "        vertical-align: middle;\n",
       "    }\n",
       "\n",
       "    .dataframe tbody tr th {\n",
       "        vertical-align: top;\n",
       "    }\n",
       "\n",
       "    .dataframe thead th {\n",
       "        text-align: right;\n",
       "    }\n",
       "</style>\n",
       "<table border=\"1\" class=\"dataframe\">\n",
       "  <thead>\n",
       "    <tr style=\"text-align: right;\">\n",
       "      <th></th>\n",
       "      <th>Tipo de Loja</th>\n",
       "      <th>Loja</th>\n",
       "      <th>Estado</th>\n",
       "      <th>Cidade</th>\n",
       "    </tr>\n",
       "  </thead>\n",
       "  <tbody>\n",
       "    <tr>\n",
       "      <th>0</th>\n",
       "      <td>Mix Mateus</td>\n",
       "      <td>Atacarejo - Juazeiro</td>\n",
       "      <td>Ba</td>\n",
       "      <td>Juazeiro</td>\n",
       "    </tr>\n",
       "    <tr>\n",
       "      <th>1</th>\n",
       "      <td>Mix Mateus</td>\n",
       "      <td>Teixeira de freitas</td>\n",
       "      <td>Ba</td>\n",
       "      <td>Teixeira de freitas</td>\n",
       "    </tr>\n",
       "    <tr>\n",
       "      <th>2</th>\n",
       "      <td>Mix Mateus</td>\n",
       "      <td>Floriano</td>\n",
       "      <td>PI</td>\n",
       "      <td>Floriano</td>\n",
       "    </tr>\n",
       "    <tr>\n",
       "      <th>3</th>\n",
       "      <td>Mix Mateus</td>\n",
       "      <td>Parnaíba</td>\n",
       "      <td>PI</td>\n",
       "      <td>Parnaíba</td>\n",
       "    </tr>\n",
       "    <tr>\n",
       "      <th>4</th>\n",
       "      <td>Mateus Supermercados</td>\n",
       "      <td>Piripiri</td>\n",
       "      <td>PI</td>\n",
       "      <td>Piripiri</td>\n",
       "    </tr>\n",
       "  </tbody>\n",
       "</table>\n",
       "</div>"
      ],
      "text/plain": [
       "           Tipo de Loja                  Loja Estado               Cidade\n",
       "0            Mix Mateus  Atacarejo - Juazeiro     Ba             Juazeiro\n",
       "1            Mix Mateus   Teixeira de freitas     Ba  Teixeira de freitas\n",
       "2            Mix Mateus              Floriano     PI             Floriano\n",
       "3            Mix Mateus              Parnaíba     PI             Parnaíba\n",
       "4  Mateus Supermercados              Piripiri     PI             Piripiri"
      ]
     },
     "execution_count": 111,
     "metadata": {},
     "output_type": "execute_result"
    }
   ],
   "source": [
    "# Primeiro clndo o arquivo com as lojas para procura\n",
    "lojas = pd.read_excel('lojas.xlsx')\n",
    "lojas.head(5)"
   ]
  },
  {
   "cell_type": "code",
   "execution_count": 122,
   "metadata": {},
   "outputs": [],
   "source": [
    "# Teste com uma das lojas para ver se funciona\n",
    "key = \"Mix Mateus Floriano\"\n",
    "f.get(\"https://www.google.co.in/search?q=\" + key + ' endereço' )"
   ]
  },
  {
   "cell_type": "code",
   "execution_count": 123,
   "metadata": {},
   "outputs": [
    {
     "name": "stdout",
     "output_type": "stream",
     "text": [
      "BR-230, S/N - Sambaíba, Floriano - PI, 64804-140\n"
     ]
    }
   ],
   "source": [
    "# OK\n",
    "#xpath = '/html/body/div[7]/div/div[10]/div[2]/div/div/div[2]/div/div[3]/div/div/div/div/div[1]/div/div/div/div/div/div[5]/div/div/div'\n",
    "#xpath = '/html/body/div[7]/div/div[10]/div[2]/div/div/div[2]/div/div[3]/div/div/div/div/div[1]/div/div/div/div/div/div[5]/div/div/div/span[2]'\n",
    "xpath = '/html/body/div[7]/div/div[10]/div[1]/div[2]/div[2]/div/div/div[1]/div/div/div/div/div[1]/div/div[1]'\n",
    "end = f.find_element_by_xpath(xpath).text\n",
    "print(end)\n",
    "#\n"
   ]
  },
  {
   "cell_type": "code",
   "execution_count": 18,
   "metadata": {},
   "outputs": [],
   "source": [
    "# Importando lib para ver o progresso do código\n",
    "from tqdm.notebook import tqdm_notebook"
   ]
  },
  {
   "cell_type": "code",
   "execution_count": 126,
   "metadata": {},
   "outputs": [
    {
     "data": {
      "application/vnd.jupyter.widget-view+json": {
       "model_id": "dfdf1060ae5444cb8a9c2c684c20533c",
       "version_major": 2,
       "version_minor": 0
      },
      "text/plain": [
       "HBox(children=(HTML(value=''), FloatProgress(value=0.0, max=128.0), HTML(value='')))"
      ]
     },
     "metadata": {},
     "output_type": "display_data"
    },
    {
     "name": "stdout",
     "output_type": "stream",
     "text": [
      "Armazenando endereço da loja: Mix Mateus Atacarejo - Juazeiro endereço\n",
      "Armazenando endereço da loja: Mix Mateus Teixeira de freitas endereço\n",
      "Armazenando endereço da loja: Mix Mateus Floriano endereço\n",
      "Armazenando endereço da loja: Mix Mateus Parnaíba endereço\n",
      "Armazenando endereço da loja: Mateus Supermercados Piripiri endereço\n",
      "Armazenando endereço da loja: Mix Mateus Terezina Zona Sul endereço\n",
      "Armazenando endereço da loja: Mix Mateus Terezina Zequinha Freire endereço\n",
      "Armazenando endereço da loja: Mix Mateus Aracaju endereço\n",
      "Armazenando endereço da loja: Mix Mateus Petrolina endereço\n",
      "Armazenando endereço da loja: Mix Mateus Abaetetuba endereço\n",
      "Armazenando endereço da loja: Mix Mateus Altamira endereço\n",
      "Armazenando endereço da loja: Mix Mateus Coqueiro 40h endereço\n",
      "Armazenando endereço da loja: Mix Mateus Mário Covas endereço\n",
      "Armazenando endereço da loja: Mateus Supermercados Jaderlândia endereço\n",
      "Armazenando endereço da loja: Mateus Supermercados Maguari endereço\n",
      "Armazenando endereço da loja: Mateus Supermercados Barcarena endereço\n",
      "Armazenando endereço da loja: Mix Mateus Bengui endereço\n",
      "Armazenando endereço da loja: Mix Mateus Icoaraci endereço\n",
      "Armazenando endereço da loja: Mix Mateus Pedreira endereço\n",
      "Armazenando endereço da loja: Mateus Supermercados Marambaia endereço\n",
      "Armazenando endereço da loja: Mix Mateus Bragança endereço\n",
      "Armazenando endereço da loja: Mateus Supermercados Canaã dos Carajás endereço\n",
      "Armazenando endereço da loja: Mix Mateus Capanema endereço\n",
      "Armazenando endereço da loja: Mix Mateus Castanhal endereço\n",
      "Armazenando endereço da loja: Mateus Supermercados Castanhal endereço\n",
      "Armazenando endereço da loja: Camiño Supermercados Conceição do Araguiaia endereço\n",
      "Armazenando endereço da loja: Camiño Supermercados Eldorado endereço\n",
      "Armazenando endereço da loja: Camiño Supermercados Jardim Primavera endereço\n",
      "Armazenando endereço da loja: Camiño Supermercados Goianésia do Pará endereço\n",
      "Armazenando endereço da loja: Camiño Supermercados Itupiranga endereço\n",
      "Armazenando endereço da loja: Camiño Supermercados Jacundá endereço\n",
      "Armazenando endereço da loja: Camiño Supermercados São Felix endereço\n",
      "Armazenando endereço da loja: Mix Mateus Marabá Cidade Nova endereço\n",
      "Armazenando endereço da loja: Mix Mateus Nova Marabá endereço\n",
      "Armazenando endereço da loja: Mateus Supermercados Marabá endereço\n",
      "Armazenando endereço da loja: Mix Mateus Marituba endereço\n",
      "Armazenando endereço da loja: Mix Mateus Paragominas endereço\n",
      "Armazenando endereço da loja: Mix Mateus Parauapebas Nova Carajás endereço\n",
      "Armazenando endereço da loja: Mix Mateus Parque Carajás endereço\n",
      "Armazenando endereço da loja: Mix Mateus Redenção endereço\n",
      "Armazenando endereço da loja: Camiño Supermercados Rondon do Pará endereço\n",
      "Armazenando endereço da loja: Camiño Supermercados São Miguel do Guamá endereço\n",
      "Armazenando endereço da loja: Mateus Supermercados Tailândia endereço\n",
      "Armazenando endereço da loja: Camiño Supermercados Tomé-Açu endereço\n",
      "Armazenando endereço da loja: Camiño Supermercados Tucumã endereço\n",
      "Armazenando endereço da loja: Mix Mateus Tucuruí endereço\n",
      "Armazenando endereço da loja: Mix Mateus Açaiândia endereço\n",
      "Armazenando endereço da loja: Mateus Supermercados Açailândia endereço\n",
      "Armazenando endereço da loja: Camiño Supermercados Arari endereço\n",
      "Armazenando endereço da loja: Mix Mateus Bacabal endereço\n",
      "Armazenando endereço da loja: Mix Mateus Balsas endereço\n",
      "Armazenando endereço da loja: Hipermercado Mateus Balsas endereço\n",
      "Armazenando endereço da loja: Mateus Supermercados Barra do Corda endereço\n",
      "Armazenando endereço da loja: Camiño Supermercados Barreirinhas endereço\n",
      "Armazenando endereço da loja: Mateus Supermercados Buriticupu endereço\n",
      "Armazenando endereço da loja: Camiño Supermercados Carolina endereço\n",
      "Armazenando endereço da loja: Mix Mateus Caxias endereço\n",
      "Armazenando endereço da loja: Mix Mateus Chapadinha endereço\n",
      "Armazenando endereço da loja: Supermercados Mateus Codó endereço\n",
      "Armazenando endereço da loja: Camiño Supermercados Colinas endereço\n",
      "Armazenando endereço da loja: Camiño Supermercados Coroatá endereço\n",
      "Armazenando endereço da loja: Camiño Supermercados Cururupu endereço\n",
      "Armazenando endereço da loja: Camiño Supermercados Estreito endereço\n",
      "Armazenando endereço da loja: Mateus Supermercados Estreito endereço\n",
      "Armazenando endereço da loja: Camiño Supermercados Grajaú endereço\n",
      "Armazenando endereço da loja: Mix Mateus Babaçulândia endereço\n",
      "Armazenando endereço da loja: Mix Mateus Bacuri endereço\n",
      "Armazenando endereço da loja: Mix Mateus Tamandaré endereço\n",
      "Armazenando endereço da loja: Mateus Supermercados Goiás endereço\n",
      "Armazenando endereço da loja: Mateus Supermercados Rua Ceará endereço\n",
      "Armazenando endereço da loja: Camiño Supermercados Itapecuru endereço\n",
      "Armazenando endereço da loja: Camiño Supermercados Itinga endereço\n",
      "Armazenando endereço da loja: Camiño Supermercados Lago da Pedra endereço\n",
      "Armazenando endereço da loja: Camiño Supermercados Ruana endereço\n",
      "Armazenando endereço da loja: Camiño Supermercados Miranda do Norte endereço\n",
      "Armazenando endereço da loja: Mix Mateus Pedreiras endereço\n",
      "Armazenando endereço da loja: Mix Mateus Pinheiro endereço\n",
      "Armazenando endereço da loja: Mateus Supermercados Presidente Dutra endereço\n",
      "Armazenando endereço da loja: Camiño Supermercados Rosário endereço\n",
      "Armazenando endereço da loja: Camiño Supermercados Santa Helena endereço\n",
      "Armazenando endereço da loja: Camiño Supermercados Carcará endereço\n",
      "Armazenando endereço da loja: Mix Mateus Santa Inês endereço\n",
      "Armazenando endereço da loja: Mateus Supermercados Santa Inês endereço\n",
      "Armazenando endereço da loja: Camiño Supermercados Santa Luzia endereço\n",
      "Armazenando endereço da loja: Camiño Supermercados Santa Rita endereço\n",
      "Armazenando endereço da loja: Camiño Supermercados São Bento endereço\n",
      "Armazenando endereço da loja: Camiño Supermercados São José de Ribamar endereço\n",
      "Armazenando endereço da loja: Mix Mateus Maiobão endereço\n",
      "Armazenando endereço da loja: Mix Mateus Ubatuba endereço\n",
      "Armazenando endereço da loja: Camiño Supermercados Anjo da Guarda endereço\n",
      "Armazenando endereço da loja: Camiño Supermercados Divinéia endereço\n",
      "Armazenando endereço da loja: Camiño Supermercados Itapiracó endereço\n",
      "Armazenando endereço da loja: Camiño Supermercados Maranhão Novo endereço\n",
      "Armazenando endereço da loja: Camiño Supermercados São Bernardo endereço\n",
      "Armazenando endereço da loja: Camiño Supermercados São Cristóvão endereço\n",
      "Armazenando endereço da loja: Mix Mateus Araçagy endereço\n",
      "Armazenando endereço da loja: Mix Mateus Forquilha endereço\n",
      "Armazenando endereço da loja: Mix Mateus Jardim Tropical endereço\n",
      "Armazenando endereço da loja: Mix Mateus João Paulo endereço\n",
      "Armazenando endereço da loja: Mix Mateus Tirirical endereço\n",
      "Armazenando endereço da loja: Mix Mateus Vinhais endereço\n",
      "Armazenando endereço da loja: Hiper Mateus Renanscença endereço\n",
      "Armazenando endereço da loja: Mateus Supermercados Anil endereço\n",
      "Armazenando endereço da loja: Mateus Supermercados Bacanga endereço\n",
      "Armazenando endereço da loja: Mateus Supermercados Calhau endereço\n",
      "Armazenando endereço da loja: Mateus Supermercados Centro Cajazeiras endereço\n",
      "Armazenando endereço da loja: Mateus Supermercados Cidade Operária endereço\n",
      "Armazenando endereço da loja: Mateus Supermercados Cohab endereço\n",
      "Armazenando endereço da loja: Mateus Supermercados Cohama endereço\n",
      "Armazenando endereço da loja: Mateus Supermercados Cohatrac endereço\n",
      "Armazenando endereço da loja: Mateus Supermercados Cohatrack IV endereço\n",
      "Armazenando endereço da loja: Mateus Supermercados Rio Anil Shopping endereço\n",
      "Armazenando endereço da loja: Mateus Supermercados São Cristóvão endereço\n",
      "Armazenando endereço da loja: Mateus Supermercados Shopping da Ilha endereço\n",
      "Armazenando endereço da loja: Mateus Supermercados Shopping Pátio Norte endereço\n",
      "Armazenando endereço da loja: Mateus Supermercados Turu endereço\n",
      "Armazenando endereço da loja: Mateus Supermercados Turuzinho endereço\n",
      "Armazenando endereço da loja: Mix Mateus Avenida Piaui endereço\n",
      "Armazenando endereço da loja: Mix Mateus Parque Alvorada endereço\n",
      "Armazenando endereço da loja: Camiño Supermercados Tutória endereço\n",
      "Armazenando endereço da loja: Camiño Supermercados Urbano Santos endereço\n",
      "Armazenando endereço da loja: Camiño Supermercados Vargem Grande endereço\n"
     ]
    },
    {
     "name": "stdout",
     "output_type": "stream",
     "text": [
      "Armazenando endereço da loja: Camiño Supermercados Viana endereço\n",
      "Armazenando endereço da loja: Camiño Supermercados Vitorino Freire endereço\n",
      "Armazenando endereço da loja: Camiño Supermercados Zé Doca endereço\n",
      "Armazenando endereço da loja: Mix Mateus Itapipoca endereço\n",
      "Armazenando endereço da loja: Mix Mateus Sobral endereço\n",
      "Armazenando endereço da loja: Mix Mateus Tianguá endereço\n",
      "\n"
     ]
    }
   ],
   "source": [
    "# Criando lista para armazenar os endereços\n",
    "lista = []\n",
    "# Variável com quantidade de erros\n",
    "errors = 0\n",
    "\n",
    "# Testando leitura das lojas\n",
    "for linha in tqdm_notebook(lojas.index):\n",
    "    # Armazenando o nome completo da loja\n",
    "    key = (lojas['Tipo de Loja'][linha] + ' ' + lojas['Loja'][linha] + ' endereço')\n",
    "    print(f'Armazenando endereço da loja: {key}')\n",
    "    # Substituindo na URL de pesquisa do google para procurar cada loja\n",
    "    f.get(\"https://www.google.co.in/search?q=\"+key)\n",
    "    # Tempo para a página carregar - Não é o mais eficiente, porém depois eu melhoro\n",
    "    sleep(3)\n",
    "    # Onde está localizado na página:\n",
    "    xpath = '/html/body/div[7]/div/div[10]/div[1]/div[2]/div[2]/div/div/div[1]/div/div/div/div/div[1]/div/div[1]'\n",
    "    \n",
    "    try:\n",
    "        # O endereço da loja fica armazenado nesse xpath em questão - peguei usando o inspecionar\n",
    "        address = f.find_element_by_xpath(xpath).text\n",
    "    except:\n",
    "        address = f'{key} não encontrado'\n",
    "        errors += 1\n",
    "    # Adicionando ao final da lista cada endereço\n",
    "    lista.append(address)"
   ]
  },
  {
   "cell_type": "code",
   "execution_count": 127,
   "metadata": {},
   "outputs": [
    {
     "data": {
      "text/plain": [
       "['Av. Epitacio Pessoa, S/N, Gleba C - Alto da Alianca, Juazeiro - BA, 48909-347',\n",
       " 'Av. Pres. Getúlio Vargas, 7979 - Sector Bahia Sul, Teixeira de Freitas - BA, 45995-002',\n",
       " 'BR-230, S/N - Sambaíba, Floriano - PI, 64804-140',\n",
       " 'R. Projetada, 67 - Reis Veloso, Parnaíba - PI',\n",
       " 'Av. Dep. Raimundo Holanda, 1319 - Morro da Saudade, Piripiri - PI, 64260-000',\n",
       " 'Av. Henry Wall de Carvalho, 5300A - Parque São João, Teresina - PI, 64020-720',\n",
       " 'Av. Zequinha Freire, 1350 - Uruguai, Teresina - PI, 64073-020',\n",
       " 'Av. Chanceler Osvaldo Aranha, 1110 - José Conrado de Araújo, Aracaju - SE, 49085-100',\n",
       " 'Av. Dr. Ulisses Guimarães, 423 - Jardim Amazonas, Petrolina - PE, 56313-295',\n",
       " 'PA-409, 340 - Abaetetuba, PA, 68440-000',\n",
       " 'Mix Mateus Altamira endereço não encontrado',\n",
       " 'Prox. a rotatória do - Av. Gov. Hélio Gueiros, 0 - Coqueiro, Ananindeua - PA, 67120-527',\n",
       " 'Rod. Mário Covas, 1228 - Coqueiro, Ananindeua - PA, 67113-330',\n",
       " 'R. São Benedito, 506 - Atalaia, Ananindeua - PA, 67013-838',\n",
       " 'Av. Cláudio Sanders, 366 - Centro, Ananindeua - PA, 67013-260',\n",
       " 'Murucupi, Barcarena - PA, 68445-000',\n",
       " 'Estr. do Bengui, 938-942 - Bengui, Belém - PA, 66630-248',\n",
       " 'Mix Mateus Icoaraci endereço não encontrado',\n",
       " 'Av. Doutor Freitas, 1228 - Souza, Belém - PA, 66087-810',\n",
       " 'Av. Tavares Bastos, 1234 - Marambaia, Belém - PA, 66615-005',\n",
       " 'Tv. Santos Dumont - Perpétuo Socorro, Bragança - PA, 68600-000',\n",
       " 'Mateus Supermercados Canaã dos Carajás endereço não encontrado',\n",
       " 'BR-308 - São José, Capanema - PA, 68701-450',\n",
       " 'Saudade I, Castanhal - PA',\n",
       " 'Mateus Supermercados Castanhal endereço não encontrado',\n",
       " 'Centro, Conceição do Araguaia - PA, 68540-000',\n",
       " 'Av. Norte Sul, 24 - Residencial Eldorado, Dom Eliseu - PA, 68633-000',\n",
       " 'Rua Paulo Andrighetti, 178 - Belenzinho, São Paulo - SP, 03022-000',\n",
       " 'Av. Tancredo Neves, S/N - São Luís, Goianésia do Pará - PA, 68639-000',\n",
       " 'R. Alagoas, S/N - Centro, Itupiranga - PA, 68580-000',\n",
       " 'Av. Cristo Rei, Jacundá - PA, 68590-000',\n",
       " 'PA-150, 499 - São Félix, Marabá - PA, 68504-034',\n",
       " 'Rodovia BR 230 - Transamazônica 3161 - Cidade Nova, Marabá - PA, 68502-290',\n",
       " 'Rodovia BR 230 - Transamazônica 3161 - Cidade Nova, Marabá - PA, 68502-290',\n",
       " 'Mateus Supermercados Marabá endereço não encontrado',\n",
       " 'Rodovia BR-316, Km 11, Marituba - PA, 67105-290',\n",
       " 'Mix Mateus Paragominas endereço não encontrado',\n",
       " 'PA 275 KM 61,9 NUCLEO RESIDENCIAL - Nova Carajás, Parauapebas - PA, 68515-000',\n",
       " 'Mix Mateus Parque Carajás endereço não encontrado',\n",
       " 'Planalto, Redenção - PA, 68552-055',\n",
       " 'Av. Mal. Rondon, 1520 - Mznino01 - Centro, Rondon do Pará - PA, 68638-000',\n",
       " 'Av. Tancredo de Almeida Neves 2500 - Padre Angelo Mª de Bernard, São Miguel do Guamá - PA, 68660-000',\n",
       " 'PA-150 - Industrial, Tailândia - PA, 68695-000',\n",
       " 'Tomé-Açu - PA, 68680-000',\n",
       " 'Tucumã - PA, 68385-000',\n",
       " 'Rua B, 423 - Galpão 01 - Jardim Paraiso, Tucuruí - PA, 68458-100',\n",
       " 'Mix Mateus, Açailândia - MA, 65930-000',\n",
       " 'R. Dorgival Pinheiro de Souza, 800 - Centro, Açailândia - MA, 65930-000',\n",
       " 'Av. Dr. João da Silva Lima, 30 - Centro, Arari - MA, 65480-000',\n",
       " 'Rod. BR 316, km 361, Bacabal - MA, 65700-000',\n",
       " 'Mix Mateus Balsas endereço não encontrado',\n",
       " 'Av. Raimundo Felix, 49 - Centro, Balsas - MA, 65800-000',\n",
       " 'Av. Lulú Rodrigues, 1311, Barra do Corda - MA, 65950-000',\n",
       " 'R. Domingos Carvalho, 178, Barreirinhas - MA, 65590-000',\n",
       " 'R. Divino Espirito Santo, S/N - Vila Mansueto, Buriticupu - MA, 65393-000',\n",
       " 'Av. Waldemar Carlos Pereira, 1971 - Vila Talarico, São Paulo - SP, 03533-003',\n",
       " 'Av. Central, 1098 - Centro, Caxias - MA, 65600-160',\n",
       " 'BR-222, 500, Parque Moisés Amorim, Chapadinha - MA, 65500-000',\n",
       " 'Supermercados Mateus Codó endereço não encontrado',\n",
       " 'R. Feitiço da Vila, 1020 - Chacara Santa Maria, São Paulo - SP, 05879-000',\n",
       " 'MA-020, 1813-2051, Coroatá - MA, 65415-000',\n",
       " 'Cururupu - MA, 65268-000',\n",
       " 'R. Santos Dumont, 967, Estreito - MA, 65975-000',\n",
       " 'Mateus Supermercados Estreito endereço não encontrado',\n",
       " 'BR-226, Grajaú - MA, 65940-000',\n",
       " 'Mateus Mix Atacarejo Babaçulândia - Av. Babaçulândia - Vila Lobão, Imperatriz - MA, 65900-000',\n",
       " 'Mateus Mix Atacarejo - R. Leôncio Píres Dourado, 3200 - Bacuri, Imperatriz - MA, 65901-020',\n",
       " 'R. Tamandaré, 1250 - Mercadinho, Imperatriz - MA, 65900-000',\n",
       " 'Mateus Supermercados Goiás endereço não encontrado',\n",
       " 'R. Ceará, 578 - Centro, Imperatriz - MA, 65901-610',\n",
       " \"R. Colômbia, 116-194 - Olho D'agua, São Luís - MA, 65065-020\",\n",
       " 'Camiño Supermercados Itinga endereço não encontrado',\n",
       " 'Lago Center, R. Cel. Pedro Bogéa - Centro, Lago da Pedra - MA, 65715-000',\n",
       " 'Camiño Supermercados Ruana endereço não encontrado',\n",
       " 'Camiño Supermercados Miranda do Norte endereço não encontrado',\n",
       " 'R. Cordata, Pedreiras - MA, 65725-000',\n",
       " 'Av. Castelo Branco, 1 - Fomento, Pinheiro - MA, 65200-000',\n",
       " 'Mateus Supermercados Presidente Dutra endereço não encontrado',\n",
       " 'R. Câmara Lima, 604 - Centro, Rosário - MA, 65150-000',\n",
       " 'Av. Jacob Macanhan, 3264 - Centro, Pinhais - PR, 83326-152',\n",
       " 'Av. Gov. Sarney, 1283, Santa Inês - MA, 65300-112',\n",
       " 'BR-316, 32 - Canaã, Santa Inês - MA, 65370-000',\n",
       " 'Mateus Supermercados Santa Inês endereço não encontrado',\n",
       " 'Alameda Lorena, 1471 - Jardim Paulista, São Paulo - SP, 01424-001',\n",
       " 'R. Eber Braga, S/N - Centro, Santa Rita - MA, 65145-000',\n",
       " \"R. Colômbia, 116-194 - Olho D'agua, São Luís - MA, 65065-020\",\n",
       " 'Camiño Supermercados São José de Ribamar endereço não encontrado',\n",
       " 'Estr. de Ribamar, s/n - Vila Tijupa Queimado, São José de Ribamar - MA, 65130-000',\n",
       " 'Mix Mateus Ubatuba endereço não encontrado',\n",
       " 'Av. Moçambique, 35 - Anjo da Guarda, São Luís - MA, 65085-790',\n",
       " \"R. Colômbia, 116-194 - Olho D'agua, São Luís - MA, 65065-020\",\n",
       " 'R. Itapiracó, 1 - Turu, São Luís - MA, 65065-635',\n",
       " 'Av. A, Quadra 14 - Lote 09 - Maranhão Novo, São Luís - MA, 65061-020',\n",
       " 'Camiño Supermercados São Bernardo endereço não encontrado',\n",
       " 'Lote 03 - Quadra 235, Av. Guajajaras, S/N - São Cristovao, São Luís - MA, 65055-285',\n",
       " \"Avenida Mário Andreaza, 23 - Olho D'agua, São Luís - MA, 65066-620\",\n",
       " 'Tv. São Bernardo, 30 - Aurora, São Luís - MA, 65064-300',\n",
       " '206, R. 2, 2 - Vila Cafeteira, São Luís - MA, 65110-000',\n",
       " 'Av. João Pessoa, 224 - Coroado, São Luís - MA, 65040-000',\n",
       " 'Av. Guajajaras, 3505 - Tirirical, São Luís - MA, 65055-285',\n",
       " 'Av. Jerônimo de Albuquerque, 37 - Vinhais, São Luís - MA, 65070-076',\n",
       " 'R. Monção - Jardim Renascença, São Luís - MA',\n",
       " 'Mateus Supermercados Anil endereço não encontrado',\n",
       " 'Av. dos Portugueses, 2000 - Vila Bacanga, São Luís - MA, 65080-805',\n",
       " 'Av. dos Holandeses, 36 Lote 01 - 14 - Loja 56 - Piso 2 - Calhau, São Luís - MA, 65071-380',\n",
       " 'R. das Cajazeiras, 859 - Centro, São Luís - MA, 65015-080',\n",
       " 'Av. Oeste Interna, 7 - Cidade Operária, São Luís - MA, 65058-010',\n",
       " 'Av. Um, s/n - Cohab Anil I, São Luís - MA, 65040-020',\n",
       " 'Av. Daniel de La Touche, 73A - Cohama, São Luís - MA, 65074-115',\n",
       " 'Av. Contorno Sul, 23 - Quadra 6 - Cohatrac V, São José de Ribamar - MA, 65053-550',\n",
       " 'Av. Contôrno Norte, 58 - Cohatrac IV, São Luís - MA, 65054-310',\n",
       " 'SUC Âncora I, Av. São Luís Rei de França, 08 - Turu, São Luís - MA, 65065-470',\n",
       " 'Rio das Pedras, 3955 - Jardim Sao Cristovao, São Paulo - SP, 03930-300',\n",
       " 'Av. Daniel de La Touche, 987 - Cohama, São Luís - MA, 65074-115',\n",
       " 'Mata, São José de Ribamar - MA, 65110-000',\n",
       " 'Mateus Supermercados Turu endereço não encontrado',\n",
       " 'Av. São Luís Rei de França, 10/11 - Turu, São Luís - MA, 65065-470',\n",
       " 'Mix Mateus Avenida Piaui endereço não encontrado',\n",
       " 'Mix Mateus Parque Alvorada endereço não encontrado',\n",
       " 'R. Boa Esperança, 144 - Parque Vitória, São José de Ribamar - MA, 65066-190',\n",
       " 'Camiño Supermercados Urbano Santos endereço não encontrado',\n",
       " 'Vargem Grande - MA, 65430-000',\n",
       " 'Rodovia MA-014, 1366, KM 38 - Citel, Viana - MA, 65215-000',\n",
       " 'R. Pres. Castelo Branco, 208 - Centro, Vitorino Freire - MA, 65716-000',\n",
       " 'Zé Doca - MA, 65365-000',\n",
       " 'R. Vicente Siebra, 3279 - B - Das Flores, Itapipoca - CE, 62504-142',\n",
       " 'Rua Santos Medeiros, 200 - Jocely Dantas de Andrade Torres, Sobral - CE, 62042-120',\n",
       " 'Av. Pref. Jaques Nunes, 1993 - Seminário, Tianguá - CE, 62320-000']"
      ]
     },
     "execution_count": 127,
     "metadata": {},
     "output_type": "execute_result"
    }
   ],
   "source": [
    "# Demorou 16 minutos pra rodar, mas deu certo\n",
    "# Visualizando a lista de endereços - Deu certo\n",
    "# Poucos não foram encontrados e pode ser feito manualmente\n",
    "lista"
   ]
  },
  {
   "cell_type": "code",
   "execution_count": 128,
   "metadata": {},
   "outputs": [],
   "source": [
    "# Fecha todas as páginas de bot\n",
    "f.quit()"
   ]
  },
  {
   "cell_type": "markdown",
   "metadata": {},
   "source": [
    "## Pegando endereço, mas com beautiful soup"
   ]
  },
  {
   "cell_type": "code",
   "execution_count": 117,
   "metadata": {},
   "outputs": [],
   "source": [
    "# Imports\n",
    "import requests\n",
    "from bs4 import BeautifulSoup\n"
   ]
  },
  {
   "cell_type": "code",
   "execution_count": 129,
   "metadata": {},
   "outputs": [
    {
     "data": {
      "application/vnd.jupyter.widget-view+json": {
       "model_id": "d56382c554374ddf9ef9c76d7fd49117",
       "version_major": 2,
       "version_minor": 0
      },
      "text/plain": [
       "HBox(children=(HTML(value=''), FloatProgress(value=0.0, max=128.0), HTML(value='')))"
      ]
     },
     "metadata": {},
     "output_type": "display_data"
    },
    {
     "name": "stdout",
     "output_type": "stream",
     "text": [
      "Armazenando endereço da loja: Mix Mateus Atacarejo - Juazeiro\n",
      "Armazenando endereço da loja: Mix Mateus Teixeira de freitas\n",
      "Armazenando endereço da loja: Mix Mateus Floriano\n",
      "Armazenando endereço da loja: Mix Mateus Parnaíba\n",
      "Armazenando endereço da loja: Mateus Supermercados Piripiri\n",
      "Armazenando endereço da loja: Mix Mateus Terezina Zona Sul\n",
      "Armazenando endereço da loja: Mix Mateus Terezina Zequinha Freire\n",
      "Armazenando endereço da loja: Mix Mateus Aracaju\n",
      "Armazenando endereço da loja: Mix Mateus Petrolina\n",
      "Armazenando endereço da loja: Mix Mateus Abaetetuba\n",
      "Armazenando endereço da loja: Mix Mateus Altamira\n",
      "Armazenando endereço da loja: Mix Mateus Coqueiro 40h\n",
      "Armazenando endereço da loja: Mix Mateus Mário Covas\n",
      "Armazenando endereço da loja: Mateus Supermercados Jaderlândia\n",
      "Armazenando endereço da loja: Mateus Supermercados Maguari\n",
      "Armazenando endereço da loja: Mateus Supermercados Barcarena\n",
      "Armazenando endereço da loja: Mix Mateus Bengui\n",
      "Armazenando endereço da loja: Mix Mateus Icoaraci\n",
      "Armazenando endereço da loja: Mix Mateus Pedreira\n",
      "Armazenando endereço da loja: Mateus Supermercados Marambaia\n",
      "Armazenando endereço da loja: Mix Mateus Bragança\n",
      "Armazenando endereço da loja: Mateus Supermercados Canaã dos Carajás\n",
      "Armazenando endereço da loja: Mix Mateus Capanema\n",
      "Armazenando endereço da loja: Mix Mateus Castanhal\n",
      "Armazenando endereço da loja: Mateus Supermercados Castanhal\n",
      "Armazenando endereço da loja: Camiño Supermercados Conceição do Araguiaia\n",
      "Armazenando endereço da loja: Camiño Supermercados Eldorado\n",
      "Armazenando endereço da loja: Camiño Supermercados Jardim Primavera\n",
      "Armazenando endereço da loja: Camiño Supermercados Goianésia do Pará\n",
      "Armazenando endereço da loja: Camiño Supermercados Itupiranga\n",
      "Armazenando endereço da loja: Camiño Supermercados Jacundá\n",
      "Armazenando endereço da loja: Camiño Supermercados São Felix\n",
      "Armazenando endereço da loja: Mix Mateus Marabá Cidade Nova\n",
      "Armazenando endereço da loja: Mix Mateus Nova Marabá\n",
      "Armazenando endereço da loja: Mateus Supermercados Marabá\n",
      "Armazenando endereço da loja: Mix Mateus Marituba\n",
      "Armazenando endereço da loja: Mix Mateus Paragominas\n",
      "Armazenando endereço da loja: Mix Mateus Parauapebas Nova Carajás\n",
      "Armazenando endereço da loja: Mix Mateus Parque Carajás\n",
      "Armazenando endereço da loja: Mix Mateus Redenção\n",
      "Armazenando endereço da loja: Camiño Supermercados Rondon do Pará\n",
      "Armazenando endereço da loja: Camiño Supermercados São Miguel do Guamá\n",
      "Armazenando endereço da loja: Mateus Supermercados Tailândia\n",
      "Armazenando endereço da loja: Camiño Supermercados Tomé-Açu\n",
      "Armazenando endereço da loja: Camiño Supermercados Tucumã\n",
      "Armazenando endereço da loja: Mix Mateus Tucuruí\n",
      "Armazenando endereço da loja: Mix Mateus Açaiândia\n",
      "Armazenando endereço da loja: Mateus Supermercados Açailândia\n",
      "Armazenando endereço da loja: Camiño Supermercados Arari\n",
      "Armazenando endereço da loja: Mix Mateus Bacabal\n",
      "Armazenando endereço da loja: Mix Mateus Balsas\n",
      "Armazenando endereço da loja: Hipermercado Mateus Balsas\n",
      "Armazenando endereço da loja: Mateus Supermercados Barra do Corda\n",
      "Armazenando endereço da loja: Camiño Supermercados Barreirinhas\n",
      "Armazenando endereço da loja: Mateus Supermercados Buriticupu\n",
      "Armazenando endereço da loja: Camiño Supermercados Carolina\n",
      "Armazenando endereço da loja: Mix Mateus Caxias\n",
      "Armazenando endereço da loja: Mix Mateus Chapadinha\n",
      "Armazenando endereço da loja: Supermercados Mateus Codó\n",
      "Armazenando endereço da loja: Camiño Supermercados Colinas\n",
      "Armazenando endereço da loja: Camiño Supermercados Coroatá\n",
      "Armazenando endereço da loja: Camiño Supermercados Cururupu\n",
      "Armazenando endereço da loja: Camiño Supermercados Estreito\n",
      "Armazenando endereço da loja: Mateus Supermercados Estreito\n",
      "Armazenando endereço da loja: Camiño Supermercados Grajaú\n",
      "Armazenando endereço da loja: Mix Mateus Babaçulândia\n",
      "Armazenando endereço da loja: Mix Mateus Bacuri\n",
      "Armazenando endereço da loja: Mix Mateus Tamandaré\n",
      "Armazenando endereço da loja: Mateus Supermercados Goiás\n",
      "Armazenando endereço da loja: Mateus Supermercados Rua Ceará\n",
      "Armazenando endereço da loja: Camiño Supermercados Itapecuru\n",
      "Armazenando endereço da loja: Camiño Supermercados Itinga\n",
      "Armazenando endereço da loja: Camiño Supermercados Lago da Pedra\n",
      "Armazenando endereço da loja: Camiño Supermercados Ruana\n",
      "Armazenando endereço da loja: Camiño Supermercados Miranda do Norte\n",
      "Armazenando endereço da loja: Mix Mateus Pedreiras\n",
      "Armazenando endereço da loja: Mix Mateus Pinheiro\n",
      "Armazenando endereço da loja: Mateus Supermercados Presidente Dutra\n",
      "Armazenando endereço da loja: Camiño Supermercados Rosário\n",
      "Armazenando endereço da loja: Camiño Supermercados Santa Helena\n",
      "Armazenando endereço da loja: Camiño Supermercados Carcará\n",
      "Armazenando endereço da loja: Mix Mateus Santa Inês\n",
      "Armazenando endereço da loja: Mateus Supermercados Santa Inês\n",
      "Armazenando endereço da loja: Camiño Supermercados Santa Luzia\n",
      "Armazenando endereço da loja: Camiño Supermercados Santa Rita\n",
      "Armazenando endereço da loja: Camiño Supermercados São Bento\n",
      "Armazenando endereço da loja: Camiño Supermercados São José de Ribamar\n",
      "Armazenando endereço da loja: Mix Mateus Maiobão\n",
      "Armazenando endereço da loja: Mix Mateus Ubatuba\n",
      "Armazenando endereço da loja: Camiño Supermercados Anjo da Guarda\n",
      "Armazenando endereço da loja: Camiño Supermercados Divinéia\n",
      "Armazenando endereço da loja: Camiño Supermercados Itapiracó\n",
      "Armazenando endereço da loja: Camiño Supermercados Maranhão Novo\n",
      "Armazenando endereço da loja: Camiño Supermercados São Bernardo\n",
      "Armazenando endereço da loja: Camiño Supermercados São Cristóvão\n",
      "Armazenando endereço da loja: Mix Mateus Araçagy\n",
      "Armazenando endereço da loja: Mix Mateus Forquilha\n",
      "Armazenando endereço da loja: Mix Mateus Jardim Tropical\n",
      "Armazenando endereço da loja: Mix Mateus João Paulo\n",
      "Armazenando endereço da loja: Mix Mateus Tirirical\n",
      "Armazenando endereço da loja: Mix Mateus Vinhais\n",
      "Armazenando endereço da loja: Hiper Mateus Renanscença\n",
      "Armazenando endereço da loja: Mateus Supermercados Anil\n",
      "Armazenando endereço da loja: Mateus Supermercados Bacanga\n",
      "Armazenando endereço da loja: Mateus Supermercados Calhau\n",
      "Armazenando endereço da loja: Mateus Supermercados Centro Cajazeiras\n",
      "Armazenando endereço da loja: Mateus Supermercados Cidade Operária\n",
      "Armazenando endereço da loja: Mateus Supermercados Cohab\n",
      "Armazenando endereço da loja: Mateus Supermercados Cohama\n",
      "Armazenando endereço da loja: Mateus Supermercados Cohatrac\n",
      "Armazenando endereço da loja: Mateus Supermercados Cohatrack IV\n",
      "Armazenando endereço da loja: Mateus Supermercados Rio Anil Shopping\n",
      "Armazenando endereço da loja: Mateus Supermercados São Cristóvão\n",
      "Armazenando endereço da loja: Mateus Supermercados Shopping da Ilha\n",
      "Armazenando endereço da loja: Mateus Supermercados Shopping Pátio Norte\n",
      "Armazenando endereço da loja: Mateus Supermercados Turu\n",
      "Armazenando endereço da loja: Mateus Supermercados Turuzinho\n",
      "Armazenando endereço da loja: Mix Mateus Avenida Piaui\n",
      "Armazenando endereço da loja: Mix Mateus Parque Alvorada\n",
      "Armazenando endereço da loja: Camiño Supermercados Tutória\n",
      "Armazenando endereço da loja: Camiño Supermercados Urbano Santos\n",
      "Armazenando endereço da loja: Camiño Supermercados Vargem Grande\n",
      "Armazenando endereço da loja: Camiño Supermercados Viana\n",
      "Armazenando endereço da loja: Camiño Supermercados Vitorino Freire\n",
      "Armazenando endereço da loja: Camiño Supermercados Zé Doca\n",
      "Armazenando endereço da loja: Mix Mateus Itapipoca\n",
      "Armazenando endereço da loja: Mix Mateus Sobral\n",
      "Armazenando endereço da loja: Mix Mateus Tianguá\n",
      "\n"
     ]
    }
   ],
   "source": [
    "# Criando lista vazia\n",
    "lista_bs4 = []\n",
    "# Variável com quantidade de erros\n",
    "errors = 0\n",
    "\n",
    "# Testando leitura das lojas\n",
    "for linha in tqdm_notebook(lojas.index):\n",
    "    # Armazenando o nome completo da loja\n",
    "    key = (lojas['Tipo de Loja'][linha] + ' ' + lojas['Loja'][linha])\n",
    "    print(f'Armazenando endereço da loja: {key}')\n",
    "    \n",
    "    # Substituindo na URL de pesquisa do google para procurar cada loja\n",
    "    page = requests.get(f\"https://www.google.co.in/search?q={key}\")\n",
    "    soup = BeautifulSoup(page.content, 'html.parser')\n",
    "    \n",
    "    try:\n",
    "        # Pegando o elemento que contém o endereço, transformando em str, depois fazendo um tratamento pra sobrar\n",
    "        # .. apenas o endereço de fato\n",
    "        address = str(soup.find_all(class_=\"BNeawe tAd8D AP7Wnd\")[1]).split('>')[1]\n",
    "        address = address.split('<')[0]\n",
    "    except:\n",
    "        address = f'{key} não encontrado'\n",
    "        errors += 1\n",
    "    \n",
    "    # Adicionando ao final da lista cada endereço\n",
    "    lista_bs4.append(address)"
   ]
  },
  {
   "cell_type": "code",
   "execution_count": 130,
   "metadata": {},
   "outputs": [
    {
     "data": {
      "text/plain": [
       "['Av. Epitacio Pessoa, S/N, Gleba C - Alto da Alianca, Juazeiro - BA, 48909-347',\n",
       " 'Av. Pres. Getúlio Vargas, 7979 - Sector Bahia Sul, Teixeira de Freitas - BA, 45995-002',\n",
       " 'BR-230, S/N - Sambaíba, Floriano - PI, 64804-140',\n",
       " 'R. Projetada, 67 - Reis Veloso, Parnaíba - PI',\n",
       " 'Av. Dep. Raimundo Holanda, 1319 - Morro da Saudade, Piripiri - PI, 64260-000',\n",
       " 'Av. Henry Wall de Carvalho, 5300A - Parque São João, Teresina - PI, 64020-720',\n",
       " 'Av. Zequinha Freire, 1350 - Uruguai, Teresina - PI, 64073-020',\n",
       " 'Av. Chanceler Osvaldo Aranha, 1110 - José Conrado de Araújo, Aracaju - SE, 49085-100',\n",
       " 'Av. Dr. Ulisses Guimarães, 423 - Jardim Amazonas, Petrolina - PE, 56313-295',\n",
       " 'PA-409, 340 - Abaetetuba, PA, 68440-000',\n",
       " '',\n",
       " 'Prox. a rotatória do - Av. Gov. Hélio Gueiros, 0 - Coqueiro, Ananindeua - PA, 67120-527',\n",
       " 'Rod. Mário Covas, 1228 - Coqueiro, Ananindeua - PA, 67113-330',\n",
       " 'R. São Benedito, 506 - Atalaia, Ananindeua - PA, 67013-838',\n",
       " 'Av. Cláudio Sanders, 366 - Centro, Ananindeua - PA, 67013-260',\n",
       " 'Murucupi, Barcarena - PA, 68445-000',\n",
       " 'Estr. do Bengui, 938-942 - Bengui, Belém - PA, 66630-248',\n",
       " 'Supermercado',\n",
       " 'Av. Doutor Freitas, 1228 - Souza, Belém - PA, 66087-810',\n",
       " 'Av. Tavares Bastos, 1234 - Marambaia, Belém - PA, 66615-005',\n",
       " 'Tv. Santos Dumont - Perpétuo Socorro, Bragança - PA, 68600-000',\n",
       " 'Fecha em breve às 21:00',\n",
       " 'BR-308 - São José, Capanema - PA, 68701-450',\n",
       " 'Saudade I, Castanhal - PA',\n",
       " 'Av. Pres. Getúlio Vargas, 4277',\n",
       " 'Centro, Conceição do Araguaia - PA, 68540-000',\n",
       " 'Av. Norte Sul, 24 - Residencial Eldorado, Dom Eliseu - PA, 68633-000',\n",
       " 'Rua Paulo Andrighetti, 178 - Belenzinho, São Paulo - SP, 03022-000',\n",
       " 'Av. Tancredo Neves, S/N - São Luís, Goianésia do Pará - PA, 68639-000',\n",
       " 'R. Alagoas, S/N - Centro, Itupiranga - PA, 68580-000',\n",
       " 'Av. Cristo Rei, Jacundá - PA, 68590-000',\n",
       " 'PA-150, 499 - São Félix, Marabá - PA, 68504-034',\n",
       " 'Rodovia BR 230 - Transamazônica 3161 - Cidade Nova, Marabá - PA, 68502-290',\n",
       " 'Rodovia BR 230 - Transamazônica 3161 - Cidade Nova, Marabá - PA, 68502-290',\n",
       " 'Rodovia BR 230 - Transamazônica 3161',\n",
       " 'Rodovia BR-316, Km 11, Marituba - PA, 67105-290',\n",
       " '',\n",
       " 'PA 275 KM 61,9 NUCLEO RESIDENCIAL - Nova Carajás, Parauapebas - PA, 68515-000',\n",
       " 'Hipermercado · Shopping Aricanduva',\n",
       " 'Planalto, Redenção - PA, 68552-055',\n",
       " 'Av. Mal. Rondon, 1520 - Mznino01 - Centro, Rondon do Pará - PA, 68638-000',\n",
       " 'Av. Tancredo de Almeida Neves 2500 - Padre Angelo Mª de Bernard, São Miguel do Guamá - PA, 68660-000',\n",
       " 'PA-150 - Industrial, Tailândia - PA, 68695-000',\n",
       " 'Tomé-Açu - PA, 68680-000',\n",
       " 'Tucumã - PA, 68385-000',\n",
       " 'Rua B, 423 - Galpão 01 - Jardim Paraiso, Tucuruí - PA, 68458-100',\n",
       " 'Mix Mateus, Açailândia - MA, 65930-000',\n",
       " 'R. Dorgival Pinheiro de Souza, 800 - Centro, Açailândia - MA, 65930-000',\n",
       " 'Av. Dr. João da Silva Lima, 30 - Centro, Arari - MA, 65480-000',\n",
       " 'Rod. BR 316, km 361, Bacabal - MA, 65700-000',\n",
       " '',\n",
       " 'Av. Raimundo Felix, 49 - Centro, Balsas - MA, 65800-000',\n",
       " 'Av. Lulú Rodrigues, 1311, Barra do Corda - MA, 65950-000',\n",
       " 'R. Domingos Carvalho, 178, Barreirinhas - MA, 65590-000',\n",
       " 'R. Divino Espirito Santo, S/N - Vila Mansueto, Buriticupu - MA, 65393-000',\n",
       " 'Av. Waldemar Carlos Pereira, 1971 - Vila Talarico, São Paulo - SP, 03533-003',\n",
       " 'Av. Central, 1098 - Centro, Caxias - MA, 65600-160',\n",
       " 'BR-222, 500, Parque Moisés Amorim, Chapadinha - MA, 65500-000',\n",
       " 'Av. João Ribeiro, 2',\n",
       " 'Camiño Supermercados Colinas não encontrado',\n",
       " 'MA-020, 1813-2051, Coroatá - MA, 65415-000',\n",
       " 'Cururupu - MA, 65268-000',\n",
       " 'R. Santos Dumont, 967, Estreito - MA, 65975-000',\n",
       " 'Av. Waldemar Carlos Pereira, 523 - Vila Matilde, São Paulo - SP, 03533-001',\n",
       " 'BR-226, Grajaú - MA, 65940-000',\n",
       " 'Mateus Mix Atacarejo Babaçulândia - Av. Babaçulândia - Vila Lobão, Imperatriz - MA, 65900-000',\n",
       " 'Mateus Mix Atacarejo - R. Leôncio Píres Dourado, 3200 - Bacuri, Imperatriz - MA, 65901-020',\n",
       " 'R. Tamandaré, 1250 - Mercadinho, Imperatriz - MA, 65900-000',\n",
       " 'Goiás - GO',\n",
       " 'R. Ceará, 578 - Centro, Imperatriz - MA, 65901-610',\n",
       " \"R. Colômbia, 116-194 - Olho D'agua, São Luís - MA, 65065-020\",\n",
       " '',\n",
       " 'Lago Center, R. Cel. Pedro Bogéa - Centro, Lago da Pedra - MA, 65715-000',\n",
       " 'Camiño Supermercados Ruana não encontrado',\n",
       " 'R. Do Comercio',\n",
       " 'R. Cordata, Pedreiras - MA, 65725-000',\n",
       " 'Av. Castelo Branco, 1 - Fomento, Pinheiro - MA, 65200-000',\n",
       " 'Aberto ⋅ Fecha às 22:00',\n",
       " 'R. Câmara Lima, 604 - Centro, Rosário - MA, 65150-000',\n",
       " 'Av. Jacob Macanhan, 3264 - Centro, Pinhais - PR, 83326-152',\n",
       " 'Av. Gov. Sarney, 1283, Santa Inês - MA, 65300-112',\n",
       " 'BR-316, 32 - Canaã, Santa Inês - MA, 65370-000',\n",
       " 'Av. Castelo Branco, 2790',\n",
       " 'Alameda Lorena, 1471 - Jardim Paulista, São Paulo - SP, 01424-001',\n",
       " 'R. Eber Braga, S/N - Centro, Santa Rita - MA, 65145-000',\n",
       " \"R. Colômbia, 116-194 - Olho D'agua, São Luís - MA, 65065-020\",\n",
       " 'MA-201, 2015-1901',\n",
       " 'Estr. de Ribamar, s/n - Vila Tijupa Queimado, São José de Ribamar - MA, 65130-000',\n",
       " 'Mix Mateus Ubatuba não encontrado',\n",
       " 'Av. Moçambique, 35 - Anjo da Guarda, São Luís - MA, 65085-790',\n",
       " \"R. Colômbia, 116-194 - Olho D'agua, São Luís - MA, 65065-020\",\n",
       " 'R. Itapiracó, 1 - Turu, São Luís - MA, 65065-635',\n",
       " 'Av. A, Quadra 14 - Lote 09 - Maranhão Novo, São Luís - MA, 65061-020',\n",
       " 'São Bernardo do Campo - SP',\n",
       " 'Lote 03 - Quadra 235, Av. Guajajaras, S/N - São Cristovao, São Luís - MA, 65055-285',\n",
       " \"Avenida Mário Andreaza, 23 - Olho D'agua, São Luís - MA, 65066-620\",\n",
       " 'Tv. São Bernardo, 30 - Aurora, São Luís - MA, 65064-300',\n",
       " '206, R. 2, 2 - Vila Cafeteira, São Luís - MA, 65110-000',\n",
       " 'Av. João Pessoa, 224 - Coroado, São Luís - MA, 65040-000',\n",
       " 'Av. Guajajaras, 3505 - Tirirical, São Luís - MA, 65055-285',\n",
       " 'Av. Jerônimo de Albuquerque, 37 - Vinhais, São Luís - MA, 65070-076',\n",
       " 'R. Monção - Jardim Renascença, São Luís - MA',\n",
       " 'Av. Edson Brandão',\n",
       " 'Av. dos Portugueses, 2000 - Vila Bacanga, São Luís - MA, 65080-805',\n",
       " 'Av. dos Holandeses, 36 Lote 01 - 14 - Loja 56 - Piso 2 - Calhau, São Luís - MA, 65071-380',\n",
       " 'R. das Cajazeiras, 859 - Centro, São Luís - MA, 65015-080',\n",
       " 'Av. Oeste Interna, 7 - Cidade Operária, São Luís - MA, 65058-010',\n",
       " 'Av. Um, s/n - Cohab Anil I, São Luís - MA, 65040-020',\n",
       " 'Av. Daniel de La Touche, 73A - Cohama, São Luís - MA, 65074-115',\n",
       " 'Av. Contorno Sul, 23 - Quadra 6 - Cohatrac V, São José de Ribamar - MA, 65053-550',\n",
       " 'Av. Contôrno Norte, 58 - Cohatrac IV, São Luís - MA, 65054-310',\n",
       " 'SUC Âncora I, Av. São Luís Rei de França, 08 - Turu, São Luís - MA, 65065-470',\n",
       " 'Rio das Pedras, 3955 - Jardim Sao Cristovao, São Paulo - SP, 03930-300',\n",
       " 'Av. Daniel de La Touche, 987 - Cohama, São Luís - MA, 65074-115',\n",
       " 'Mata, São José de Ribamar - MA, 65110-000',\n",
       " 'Av. São Luís Rei de França, 28',\n",
       " 'Av. São Luís Rei de França, 10/11 - Turu, São Luís - MA, 65065-470',\n",
       " '',\n",
       " '',\n",
       " '',\n",
       " 'Camiño Supermercados Urbano Santos não encontrado',\n",
       " 'Vargem Grande - MA, 65430-000',\n",
       " 'Rodovia MA-014, 1366, KM 38 - Citel, Viana - MA, 65215-000',\n",
       " 'R. Pres. Castelo Branco, 208 - Centro, Vitorino Freire - MA, 65716-000',\n",
       " 'Zé Doca - MA, 65365-000',\n",
       " 'R. Vicente Siebra, 3279 - B - Das Flores, Itapipoca - CE, 62504-142',\n",
       " 'Rua Santos Medeiros, 200 - Jocely Dantas de Andrade Torres, Sobral - CE, 62042-120',\n",
       " 'Av. Pref. Jaques Nunes, 1993 - Seminário, Tianguá - CE, 62320-000']"
      ]
     },
     "execution_count": 130,
     "metadata": {},
     "output_type": "execute_result"
    }
   ],
   "source": [
    "lista_bs4"
   ]
  },
  {
   "cell_type": "code",
   "execution_count": 131,
   "metadata": {},
   "outputs": [
    {
     "data": {
      "text/plain": [
       "128"
      ]
     },
     "execution_count": 131,
     "metadata": {},
     "output_type": "execute_result"
    }
   ],
   "source": [
    "# Demorou 2:20 min - bem mais eficiente que no selenium\n",
    "# Conferindo se a quantidade bate\n",
    "len(lista_bs4)"
   ]
  },
  {
   "cell_type": "code",
   "execution_count": 27,
   "metadata": {},
   "outputs": [],
   "source": [
    "\n",
    "page = requests.get(f\"https://www.google.co.in/search?q=Mix Mateus Juazeiro\")\n",
    "soup = BeautifulSoup(page.content, 'html.parser')"
   ]
  },
  {
   "cell_type": "code",
   "execution_count": 81,
   "metadata": {},
   "outputs": [
    {
     "data": {
      "text/plain": [
       "<span class=\"BNeawe tAd8D AP7Wnd\">Av. Epitacio Pessoa, S/N, Gleba C - Alto da Alianca, Juazeiro - BA, 48909-347</span>"
      ]
     },
     "execution_count": 81,
     "metadata": {},
     "output_type": "execute_result"
    }
   ],
   "source": [
    "end = soup.find_all(class_=\"BNeawe tAd8D AP7Wnd\")[1]\n",
    "end\n",
    "#class=\"BNeawe tAd8D AP7Wnd\"\n",
    "#QsDR1c\n",
    "#LrzXr\n",
    "#artist_name_list = soup.find(class_='BodyText')\n",
    "\n",
    "# Pegar o texto de todas as instâncias da tag <a> dentro da div BodyText\n",
    "#artist_name_list_items = artist_name_list.find_all('a')"
   ]
  },
  {
   "cell_type": "code",
   "execution_count": 87,
   "metadata": {},
   "outputs": [
    {
     "data": {
      "text/plain": [
       "'Av. Epitacio Pessoa, S/N, Gleba C - Alto da Alianca, Juazeiro - BA, 48909-347'"
      ]
     },
     "execution_count": 87,
     "metadata": {},
     "output_type": "execute_result"
    }
   ],
   "source": [
    "end = str(end)\n",
    "end = end.split('>')[1]\n",
    "end = end.split('<')[0]\n",
    "end\n",
    "#print(type(end))\n",
    "#print(end.split())"
   ]
  },
  {
   "cell_type": "code",
   "execution_count": null,
   "metadata": {},
   "outputs": [],
   "source": []
  },
  {
   "cell_type": "code",
   "execution_count": 64,
   "metadata": {},
   "outputs": [
    {
     "data": {
      "text/plain": [
       "<span class=\"BNeawe tAd8D AP7Wnd\">Av. Epitacio Pessoa, S/N, Gleba C - Alto da Alianca, Juazeiro - BA, 48909-347</span>"
      ]
     },
     "execution_count": 64,
     "metadata": {},
     "output_type": "execute_result"
    }
   ],
   "source": [
    "end = soup.find_all('span')[26]\n",
    "end"
   ]
  },
  {
   "cell_type": "code",
   "execution_count": 132,
   "metadata": {},
   "outputs": [
    {
     "data": {
      "text/html": [
       "<div>\n",
       "<style scoped>\n",
       "    .dataframe tbody tr th:only-of-type {\n",
       "        vertical-align: middle;\n",
       "    }\n",
       "\n",
       "    .dataframe tbody tr th {\n",
       "        vertical-align: top;\n",
       "    }\n",
       "\n",
       "    .dataframe thead th {\n",
       "        text-align: right;\n",
       "    }\n",
       "</style>\n",
       "<table border=\"1\" class=\"dataframe\">\n",
       "  <thead>\n",
       "    <tr style=\"text-align: right;\">\n",
       "      <th></th>\n",
       "      <th>Endereço</th>\n",
       "    </tr>\n",
       "  </thead>\n",
       "  <tbody>\n",
       "    <tr>\n",
       "      <th>0</th>\n",
       "      <td>Av. Epitacio Pessoa, S/N, Gleba C - Alto da Al...</td>\n",
       "    </tr>\n",
       "    <tr>\n",
       "      <th>1</th>\n",
       "      <td>Av. Pres. Getúlio Vargas, 7979 - Sector Bahia ...</td>\n",
       "    </tr>\n",
       "    <tr>\n",
       "      <th>2</th>\n",
       "      <td>BR-230, S/N - Sambaíba, Floriano - PI, 64804-140</td>\n",
       "    </tr>\n",
       "    <tr>\n",
       "      <th>3</th>\n",
       "      <td>R. Projetada, 67 - Reis Veloso, Parnaíba - PI</td>\n",
       "    </tr>\n",
       "    <tr>\n",
       "      <th>4</th>\n",
       "      <td>Av. Dep. Raimundo Holanda, 1319 - Morro da Sau...</td>\n",
       "    </tr>\n",
       "    <tr>\n",
       "      <th>...</th>\n",
       "      <td>...</td>\n",
       "    </tr>\n",
       "    <tr>\n",
       "      <th>123</th>\n",
       "      <td>R. Pres. Castelo Branco, 208 - Centro, Vitorin...</td>\n",
       "    </tr>\n",
       "    <tr>\n",
       "      <th>124</th>\n",
       "      <td>Zé Doca - MA, 65365-000</td>\n",
       "    </tr>\n",
       "    <tr>\n",
       "      <th>125</th>\n",
       "      <td>R. Vicente Siebra, 3279 - B - Das Flores, Itap...</td>\n",
       "    </tr>\n",
       "    <tr>\n",
       "      <th>126</th>\n",
       "      <td>Rua Santos Medeiros, 200 - Jocely Dantas de An...</td>\n",
       "    </tr>\n",
       "    <tr>\n",
       "      <th>127</th>\n",
       "      <td>Av. Pref. Jaques Nunes, 1993 - Seminário, Tian...</td>\n",
       "    </tr>\n",
       "  </tbody>\n",
       "</table>\n",
       "<p>128 rows × 1 columns</p>\n",
       "</div>"
      ],
      "text/plain": [
       "                                              Endereço\n",
       "0    Av. Epitacio Pessoa, S/N, Gleba C - Alto da Al...\n",
       "1    Av. Pres. Getúlio Vargas, 7979 - Sector Bahia ...\n",
       "2     BR-230, S/N - Sambaíba, Floriano - PI, 64804-140\n",
       "3        R. Projetada, 67 - Reis Veloso, Parnaíba - PI\n",
       "4    Av. Dep. Raimundo Holanda, 1319 - Morro da Sau...\n",
       "..                                                 ...\n",
       "123  R. Pres. Castelo Branco, 208 - Centro, Vitorin...\n",
       "124                            Zé Doca - MA, 65365-000\n",
       "125  R. Vicente Siebra, 3279 - B - Das Flores, Itap...\n",
       "126  Rua Santos Medeiros, 200 - Jocely Dantas de An...\n",
       "127  Av. Pref. Jaques Nunes, 1993 - Seminário, Tian...\n",
       "\n",
       "[128 rows x 1 columns]"
      ]
     },
     "execution_count": 132,
     "metadata": {},
     "output_type": "execute_result"
    }
   ],
   "source": [
    "# Transformando a lista de endereços em um DataFrame\n",
    "adress = pd.DataFrame(lista_bs4, columns = ['Endereço'])\n",
    "adress"
   ]
  },
  {
   "cell_type": "markdown",
   "metadata": {},
   "source": [
    "## Aprendendo com beautiful soup"
   ]
  },
  {
   "cell_type": "code",
   "execution_count": null,
   "metadata": {},
   "outputs": [],
   "source": [
    "import requests\n",
    "\n",
    "page = requests.get(\"https://ofertasmateus.com/\")\n",
    "page"
   ]
  },
  {
   "cell_type": "code",
   "execution_count": null,
   "metadata": {},
   "outputs": [],
   "source": [
    "from bs4 import BeautifulSoup\n",
    "soup = BeautifulSoup(page.content, 'html.parser')"
   ]
  },
  {
   "cell_type": "code",
   "execution_count": null,
   "metadata": {},
   "outputs": [],
   "source": [
    "# html da página\n",
    "#print(soup.prettify())"
   ]
  },
  {
   "cell_type": "code",
   "execution_count": null,
   "metadata": {},
   "outputs": [],
   "source": [
    "soup.find_all('select')"
   ]
  },
  {
   "cell_type": "code",
   "execution_count": null,
   "metadata": {},
   "outputs": [],
   "source": [
    "# Já é alguma coisa\n",
    "estados = soup.find_all(id=\"optEstado\")[0].get_text()\n",
    "estados = estados.split('\\n')\n",
    "\n",
    "estados[2:-1]"
   ]
  },
  {
   "cell_type": "code",
   "execution_count": null,
   "metadata": {},
   "outputs": [],
   "source": [
    "# Tentando pegar as siglas com datacamp\n",
    "from urllib.request import urlopen\n",
    "from bs4 import BeautifulSoup\n"
   ]
  },
  {
   "cell_type": "code",
   "execution_count": null,
   "metadata": {},
   "outputs": [],
   "source": [
    "url = \"https://ofertasmateus.com/\"\n",
    "html = urlopen(url)"
   ]
  },
  {
   "cell_type": "code",
   "execution_count": null,
   "metadata": {},
   "outputs": [],
   "source": [
    "soup = BeautifulSoup(html, 'lxml')\n",
    "type(soup)"
   ]
  },
  {
   "cell_type": "code",
   "execution_count": null,
   "metadata": {},
   "outputs": [],
   "source": [
    "# Get the title\n",
    "title = soup.title\n",
    "print(title)"
   ]
  },
  {
   "cell_type": "code",
   "execution_count": null,
   "metadata": {},
   "outputs": [],
   "source": [
    "# Print out the text\n",
    "text = soup.get_text()\n",
    "#print(soup.text)"
   ]
  },
  {
   "cell_type": "code",
   "execution_count": null,
   "metadata": {},
   "outputs": [],
   "source": [
    "soup.find_all('div')"
   ]
  },
  {
   "cell_type": "code",
   "execution_count": null,
   "metadata": {},
   "outputs": [],
   "source": [
    "all_links = soup.find_all(\"div\")\n",
    "for link in all_links:\n",
    "    print(link.get(\"class\"))"
   ]
  },
  {
   "cell_type": "code",
   "execution_count": null,
   "metadata": {},
   "outputs": [],
   "source": [
    "soup.find_first('//select[@id=\"optEstado\"]')"
   ]
  },
  {
   "cell_type": "markdown",
   "metadata": {},
   "source": [
    "# Plot no Mapa"
   ]
  },
  {
   "cell_type": "code",
   "execution_count": null,
   "metadata": {},
   "outputs": [],
   "source": [
    "# https://www.youtube.com/watch?v=yMyU1i6-aZk"
   ]
  },
  {
   "cell_type": "code",
   "execution_count": null,
   "metadata": {},
   "outputs": [],
   "source": [
    "import geopandas as gpd"
   ]
  },
  {
   "cell_type": "markdown",
   "metadata": {},
   "source": [
    "#### O vídeo que resolveu a parada: \n",
    "#- Como instalar o GEOPANDAS no ANACONDA NAVIGATOR\n",
    "#- https://www.youtube.com/watch?v=6yuBh0aYU00\n",
    "    \n",
    "##### Dependências para baixar geopandas:\n",
    "Todas podem ser baixadas com pip install ou por aqui: \n",
    "- https://www.lfd.uci.edu/~gohlke/pythonlibs/\n",
    "\n",
    "- #pip install descartes\n",
    "- #pip install shapely\n",
    "- #pip install pyproj\n",
    "- #pip install Fiona # Essa só direto no site\n",
    "- #pip install GDAL # Essa só direto no site"
   ]
  },
  {
   "cell_type": "markdown",
   "metadata": {},
   "source": [
    "# Pegando tabelas direto do IBGE - Sidrapy"
   ]
  },
  {
   "cell_type": "code",
   "execution_count": null,
   "metadata": {},
   "outputs": [],
   "source": [
    "import sidrapy"
   ]
  },
  {
   "cell_type": "code",
   "execution_count": null,
   "metadata": {},
   "outputs": [],
   "source": [
    "# Importando dataframes usando sidrapy - sidrapy parece não estar funcionando\n",
    "start_time = time.time()\n",
    "'''\n",
    "Cola:\n",
    "\n",
    "    t (table_code) = 1620\n",
    "    n (territorial_level) = 1\n",
    "    n/ (ibge_territorial_code) = all\n",
    "    v (variable) = all\n",
    "    p (period) = all\n",
    "    c/ (categories) = 11255/90707\n",
    "'''\n",
    "\n",
    "#ipca_i2012_weight = sidrapy.get_table(table_code='1419', territorial_level=\"1\", ibge_territorial_code=\"all\", period='last 96', variable='66', classification='315/all')\n",
    "#ipca_i2012_var = sidrapy.get_table(table_code='1419', territorial_level=\"1\", ibge_territorial_code=\"all\", period='last 96', variable='63', classification='315/all')\n",
    "\n",
    "#ipca_i2020_weight = sidrapy.get_table(table_code='7060', territorial_level=\"1\", ibge_territorial_code=\"all\", period='last 18', variable='66', classification='315/all')\n",
    "#ipca_i2020_var = sidrapy.get_table(table_code='7060', territorial_level=\"1\", ibge_territorial_code=\"all\", period='last 18', variable='63', classification='315/all')\n",
    "\n",
    "pop = sidrapy.get_table(table_code='6579',\n",
    "                        territorial_level=\"all\",\n",
    "                        ibge_territorial_code=\"all\",\n",
    "                        period='all', variable='all',\n",
    "                        categories='11255/90707')\n",
    "# https://apisidra.ibge.gov.br/values/t/6579/n1/all/n2/all/n3/all/n6/all/v/all/p/last%201\n",
    "\n",
    "end_time = time.time()\n",
    "print(f\"Result calculated in {end_time - start_time} sec\")"
   ]
  },
  {
   "cell_type": "markdown",
   "metadata": {},
   "source": [
    "# Tabela interessantes baixadas do ibge relacionadas a demografia e interessantes para a análise - O melhor de tudo é que vem uma última coluna com o multipolygon\n",
    "\n",
    "Limitação: censo pode estar defasado\n",
    "\n",
    "Fonte: https://dados.gov.br/organization/instituto-brasileiro-de-geografia-e-estatistica-ibge?q=Demogr%C3%A1fico&sort=score+desc%2C+metadata_modified+desc\n",
    "\n",
    "- Fazer um merge dessas tabelas com a tabela lá embaixo das lojas (juntar apenas os municípios que tem nas 2)"
   ]
  },
  {
   "cell_type": "code",
   "execution_count": null,
   "metadata": {},
   "outputs": [],
   "source": []
  },
  {
   "cell_type": "code",
   "execution_count": null,
   "metadata": {},
   "outputs": [],
   "source": [
    "# https://dados.gov.br/dataset/cgeo_vw_razaodependencia\n",
    "'''\n",
    "Razão entre a população potencialmente inativa (0 a 14 anos e 65 anos ou mais de idade) e a população potencialmente \n",
    "ativa(15 a 64 anos de idade), na data de referência do Censo Demográfico.Fonte: IBGE, Censo Demográfico 2010 e Malha \n",
    "municipal 2010.\n",
    "'''\n",
    "\n",
    "dependencia = pd.read_csv('vw_razaodependencia.csv')\n",
    "dependencia"
   ]
  },
  {
   "cell_type": "code",
   "execution_count": null,
   "metadata": {},
   "outputs": [],
   "source": [
    "# Testando se tem algumas das cidades em que o grupo tem lojas\n",
    "# Show, além de mostrar A população, tb mostra\n",
    "dependencia[dependencia['nome'] == 'Juazeiro']"
   ]
  },
  {
   "cell_type": "code",
   "execution_count": null,
   "metadata": {},
   "outputs": [],
   "source": [
    "# Testando se tem algumas das cidades em que o grupo tem lojas\n",
    "dependencia[dependencia['nome'] == 'Piripiri']"
   ]
  },
  {
   "attachments": {
    "Screenshot_1.png": {
     "image/png": "[encoded data removed]"
    }
   },
   "cell_type": "markdown",
   "metadata": {},
   "source": [
    "# Concorrentes\n",
    "\n",
    "\"Os maiores concorrentes da rede são as varejistas Carrefour Brasil, GPA e Cencosud\", segundo:\n",
    "https://tc.com.br/noticias/empresas/maior-ipo-do-ano-no-brasil-grupo-mateus-busca-concorrer-com-supermercadistas\n",
    "\n",
    "![Screenshot_1.png](attachment:Screenshot_1.png)\n",
    "\n",
    "Ou\n",
    "\n",
    "\"O banco não descarta que players nacionais, como Pão de Açúcar, Carrefour e Grupo Big tentem aumentar sua presença nas regiões de origem do Grupo Mateus — 12% das lojas do GPA e 23% das lojas do Carrefour estão nas regiões Norte e Nordeste. No entanto, “a capilaridade de suas lojas, sua estrutura logística e sua escala criam um ambiente mais duro para novos [e antigos] entrantes”, dizem os analistas do banco.\"\n",
    "fonte: https://exame.com/negocios/as-armas-do-grupo-mateus-para-bater-gpa-e-carrefour-no-nordeste/ de nov/2020\n",
    "\n",
    "Na visão dos analistas do BTG, “embora o Grupo Mateus tenha superado os jogadores nacionais, a verdadeira competição nos próximos anos virá de pares regionais com muito menos escala. Ou seja, apesar de grandes players já conhecidos, há de se ficar atentos aos concorrentes regionais, que apesar de menores tem bastante capilaridade e conhecimento no nordeste"
   ]
  },
  {
   "cell_type": "markdown",
   "metadata": {},
   "source": [
    "Adendos Carrefou comprou grupo Big\n",
    "Lojas Assaí"
   ]
  },
  {
   "cell_type": "markdown",
   "metadata": {},
   "source": [
    "# Mapa com outro vídeo de referência - matplotlib\n",
    "\n",
    "- Visualização de mapas com matplotlib\n",
    "- https://www.youtube.com/watch?v=YFFTe36Xkxo"
   ]
  },
  {
   "cell_type": "code",
   "execution_count": null,
   "metadata": {},
   "outputs": [],
   "source": [
    "!apt-get install libgeos=3.5.0"
   ]
  },
  {
   "cell_type": "code",
   "execution_count": null,
   "metadata": {},
   "outputs": [],
   "source": []
  },
  {
   "cell_type": "markdown",
   "metadata": {},
   "source": [
    "# Plot Mapa - folium"
   ]
  },
  {
   "cell_type": "code",
   "execution_count": null,
   "metadata": {},
   "outputs": [],
   "source": [
    "import folium"
   ]
  },
  {
   "cell_type": "code",
   "execution_count": null,
   "metadata": {},
   "outputs": [],
   "source": [
    "# Definindo a base do mapa\n",
    "mapa = folium.Map(location=[-9.447687335487565, -40.4921125539743],\n",
    "                  tiles = 'Stamen terrain',\n",
    "                  zoom_start=5)"
   ]
  },
  {
   "cell_type": "code",
   "execution_count": null,
   "metadata": {},
   "outputs": [],
   "source": [
    "# Adicionando o ícone\n",
    "folium.Marker(location=[-9.447687335487565, -40.4921125539743], \n",
    "              popup='<i>Mix Mateus - Joazeiro</i>', \n",
    "              tooltip='Clique Aqui').add_to(mapa)\n",
    "\n",
    "# Trocar cor do ícone 'icon=folium.Icon(color='red')' <- Dá pra personalizar e colocar imagem, colocar logo dos mercados"
   ]
  },
  {
   "cell_type": "code",
   "execution_count": null,
   "metadata": {},
   "outputs": [],
   "source": [
    "# Adiciona o círculo em volta do ícone\n",
    "folium.CircleMarker(location=[-9.447687335487565, -40.4921125539743],\n",
    "                   radius=50,\n",
    "                   color='#3186cc',\n",
    "                   fill=True,\n",
    "                   fill_color='#3186cc',).add_to(mapa)"
   ]
  },
  {
   "cell_type": "code",
   "execution_count": null,
   "metadata": {},
   "outputs": [],
   "source": [
    "# Função para mostrar latitude e longitude ao se clicar no mapa\n",
    "mapa.add_child(folium.LatLngPopup())"
   ]
  },
  {
   "cell_type": "markdown",
   "metadata": {},
   "source": [
    "- Daqui pra frente tentando aplicar a visualização ao problema em si usando esse vídeo de apoio:\n",
    "    - Plotando Mapas Interativos com Python - (Visualize dados de Vendas por Região)\n",
    "    - https://www.youtube.com/watch?v=EElW-W0GmrA"
   ]
  },
  {
   "cell_type": "code",
   "execution_count": null,
   "metadata": {},
   "outputs": [],
   "source": [
    "from folium import plugins"
   ]
  },
  {
   "cell_type": "code",
   "execution_count": null,
   "metadata": {},
   "outputs": [],
   "source": []
  },
  {
   "cell_type": "markdown",
   "metadata": {},
   "source": [
    "# Geolocalização - Obter as coordenadas de um endereço\n",
    "\n",
    "- Vídeo de referência: \n",
    "    - Como converter ENDEREÇOS em coordenadas LATITUDE e LONGITUDE | Python na Prática #18\n",
    "    - https://www.youtube.com/watch?v=asSNKH_ee0M\n",
    "    "
   ]
  },
  {
   "cell_type": "code",
   "execution_count": null,
   "metadata": {},
   "outputs": [],
   "source": [
    "#pip install geopy\n",
    "from geopy.geocoders import Nominatim"
   ]
  },
  {
   "cell_type": "code",
   "execution_count": null,
   "metadata": {},
   "outputs": [],
   "source": [
    "adress = 'Alto da Alianca, Juazeiro, BA'\n",
    "locator = Nominatim(user_agent='myGeocoder')\n",
    "location = locator.geocode(adress)"
   ]
  },
  {
   "cell_type": "code",
   "execution_count": null,
   "metadata": {},
   "outputs": [],
   "source": [
    "print(location.point)"
   ]
  },
  {
   "cell_type": "markdown",
   "metadata": {},
   "source": [
    "# Outro jeito de coordenadas com geopandas\n",
    "\n",
    "- PowerBI - Como converter endereço em coordenadas - Python Geocoding GeoPandas\n",
    "- https://www.youtube.com/watch?v=cWUoDFzH9LA"
   ]
  },
  {
   "cell_type": "code",
   "execution_count": null,
   "metadata": {},
   "outputs": [],
   "source": [
    "# Pegando as coordenadas - Teste\n",
    "gpd.tools.geocode('BR-230, S/N, Sambaíba, Floriano, Piaui', provider='photon', user_agent=\"my-application\")"
   ]
  },
  {
   "cell_type": "code",
   "execution_count": null,
   "metadata": {},
   "outputs": [],
   "source": [
    "df = pd.read_excel('Tabela Roubada - Localização das lojas.xlsx')\n",
    "df"
   ]
  },
  {
   "cell_type": "code",
   "execution_count": null,
   "metadata": {},
   "outputs": [],
   "source": [
    "# função pra tirar o S/N de algum endereço - ALGO TÃO SIMPLES E NÃO TÁ INDO, VOLTAR AQUI DEPOIS\n",
    "# Função para dar mais precisão na hora de pegar as coordenadas, quando tem s/n no endereço dá uns bugs as vezes\n",
    "\n",
    "def remove_sn(n):\n",
    "    if 'S/N' in n:\n",
    "        return n.replace(', S/N', '')\n",
    "        \n",
    "        "
   ]
  },
  {
   "cell_type": "code",
   "execution_count": null,
   "metadata": {},
   "outputs": [],
   "source": [
    "txt = 'Av. Epitacio Pessoa, S/N'\n",
    "\n",
    "remove_sn(df['Logradouro'])"
   ]
  },
  {
   "cell_type": "code",
   "execution_count": null,
   "metadata": {},
   "outputs": [],
   "source": [
    "# Aplicando - Tá tornando os valores em 'none'\n",
    "df['Logradouro'].apply(remove_sn(df['Logradouro']))\n",
    "\n",
    "# Testando se deu certo\n",
    "df['Logradouro']"
   ]
  },
  {
   "cell_type": "code",
   "execution_count": null,
   "metadata": {},
   "outputs": [],
   "source": []
  },
  {
   "cell_type": "code",
   "execution_count": null,
   "metadata": {},
   "outputs": [],
   "source": [
    "# Pegando as coordenadas para todas as lojas - Algumas divergências quando coloco logradouro o endereço completo\n",
    "# Tentar fazer alguma função que se não estiver none passa, mas se tiver usa o bairro, depois cidade e assim por diante\n",
    "# A partir do bairro no \"all\" já ficou mais satisfatório e pegou todas as coordenadas com sucesso\n",
    "\n",
    "coordinates = gpd.tools.geocode(df['All'], provider='photon', user_agent=\"my-application\")\n",
    "coordinates"
   ]
  },
  {
   "cell_type": "code",
   "execution_count": null,
   "metadata": {},
   "outputs": [],
   "source": [
    "df['Coordenada'] = coordinates['geometry']"
   ]
  },
  {
   "cell_type": "code",
   "execution_count": null,
   "metadata": {},
   "outputs": [],
   "source": [
    "# Aqui só faltaria tratar para separar a latitude da longitude\n",
    "# Talvez no geopandas nem precise separar \n",
    "df"
   ]
  },
  {
   "cell_type": "code",
   "execution_count": null,
   "metadata": {},
   "outputs": [],
   "source": [
    "# Nova coluna é tipo geometry\n",
    "df.info()"
   ]
  },
  {
   "cell_type": "code",
   "execution_count": null,
   "metadata": {},
   "outputs": [],
   "source": [
    "# Transformando em 'object'\n",
    "df['Coordenada'] = df['Coordenada'].astype('object')"
   ]
  },
  {
   "cell_type": "code",
   "execution_count": null,
   "metadata": {},
   "outputs": [],
   "source": [
    "# Assim não dá, pois as coordenadas não tem o mesmo comprimento (colocando o .strip até que deu)\n",
    "df['lat'] = df['Coordenada'].apply(lambda x: str(x)[7:18].strip())\n",
    "\n",
    "# Se eu coloco o float aqui ele alguns perdem a última casa, o que prejudica a precisão da coordeenada\n",
    "#df['lat'] = df['Coordenada'].apply(lambda x: float(str(x)[7:18].strip()))\n",
    "\n",
    "# no split não funfou\n",
    "#df['Coordenada'].str.split(' ', expand=True) \n"
   ]
  },
  {
   "cell_type": "code",
   "execution_count": null,
   "metadata": {},
   "outputs": [],
   "source": [
    "df['lat']"
   ]
  },
  {
   "cell_type": "code",
   "execution_count": null,
   "metadata": {},
   "outputs": [],
   "source": [
    "# Vou precisar melhorar isso, mas por enquanto serve esse slicing\n",
    "df['lng'] = df['Coordenada'].apply(lambda x: str(x)[-12:-1].strip())"
   ]
  },
  {
   "cell_type": "code",
   "execution_count": null,
   "metadata": {},
   "outputs": [],
   "source": [
    "df['lng']"
   ]
  },
  {
   "cell_type": "code",
   "execution_count": null,
   "metadata": {},
   "outputs": [],
   "source": [
    "df"
   ]
  },
  {
   "cell_type": "code",
   "execution_count": null,
   "metadata": {},
   "outputs": [],
   "source": [
    "# Mesmo tentando transformar depois ainda sim perde o último número - deixa assim por enquanto, preciso que esteja em float\n",
    "df['lat'] = df['lat'].astype(float)\n",
    "df['lng'] = df['lng'].astype(float)\n",
    "df"
   ]
  },
  {
   "cell_type": "code",
   "execution_count": null,
   "metadata": {},
   "outputs": [],
   "source": [
    "# Teste para fazer na mão a separação e continuar o programa, senão não acabo nunca\n",
    "#df.to_excel('teste.xlsx')\n",
    "# Não rodar de novo se não apaga minhas alterações que fiz na mão"
   ]
  },
  {
   "cell_type": "code",
   "execution_count": null,
   "metadata": {},
   "outputs": [],
   "source": [
    "# Não sei se latitude e longitude estão certas ou trocadas\n",
    "\n",
    "teste = pd.read_excel('teste.xlsx', index_col=0)\n",
    "teste"
   ]
  },
  {
   "cell_type": "code",
   "execution_count": null,
   "metadata": {},
   "outputs": [],
   "source": [
    "#Célula usando o df 'teste' que eu fiz na mão, não rodar - mas eu consegui extrair direto do df, então n precisa mais\n",
    "# Ver se tem um método melhor de transformar as duas colunas em uma lista (tentei .tolist(), mas não funfou)\n",
    "coordenadas = []\n",
    "for lat, lng in zip(teste.lat.values, teste.long.values):\n",
    "    coordenadas.append([lng, lat])\n",
    "\n",
    "coordenadas\n",
    "\n"
   ]
  },
  {
   "cell_type": "code",
   "execution_count": null,
   "metadata": {},
   "outputs": [],
   "source": [
    "# Pegando direto do df de forma automática - Show, deu certo!\n",
    "coordenadas = []\n",
    "for lat, lng in zip(df.lat.values, df.lng.values):\n",
    "    coordenadas.append([lng, lat])\n",
    "\n",
    "coordenadas\n",
    "\n"
   ]
  },
  {
   "cell_type": "code",
   "execution_count": null,
   "metadata": {
    "scrolled": true
   },
   "outputs": [],
   "source": [
    "mapa = folium.Map(location=[-9.447687335487565, -40.4921125539743],\n",
    "                  tiles = 'Stamen terrain',\n",
    "                  zoom_start=5)\n",
    "\n",
    "# Mapa de Calor\n",
    "mapa.add_child(plugins.HeatMap(coordenadas))"
   ]
  },
  {
   "cell_type": "code",
   "execution_count": null,
   "metadata": {},
   "outputs": [],
   "source": [
    "# Muito bom, exportou direitinho e ainda dá pra manipular no html\n",
    "# Mas dá pra ver que a análise não fica boa pegando só as cidades, pois concentra os supermercados em um só lugar..\n",
    "# ..prejudicando a análise\n",
    "\n",
    "#Update do comentário acima, mudei pegando a partir do bairro e já ficou BEM melhor\n",
    "mapa.save('mapa.html')"
   ]
  },
  {
   "cell_type": "markdown",
   "metadata": {},
   "source": [
    "# Juntando tabelas do ibge com as lojas"
   ]
  },
  {
   "cell_type": "code",
   "execution_count": null,
   "metadata": {},
   "outputs": [],
   "source": [
    "# Somando as colunas para se ter a população total de cada município\n",
    "# Fazer de um jeito mais eficiente, tá feião\n",
    "dependencia['pop_total'] = dependencia['PESSde0a14anos'] + dependencia['PESS65oumais'] + dependencia['PESSde15a64anos']\n",
    "# Checando\n",
    "dependencia.head(5)"
   ]
  },
  {
   "cell_type": "code",
   "execution_count": null,
   "metadata": {},
   "outputs": [],
   "source": []
  },
  {
   "cell_type": "code",
   "execution_count": null,
   "metadata": {},
   "outputs": [],
   "source": [
    "# Primeiro trocando o nome da coluna do ibge para 'Cidade', assim as duas ficam com uma coluna em comum\n",
    "# Depois ver o que significam as outras colunas da tabela dependencia, ex: classe, legenda, etc\n",
    "cols = ['Cidade', 'Censo', 'PESSde0a14anos', 'PESS65oumais', 'PESSde15a64anos', 'pop_total', 'RAZAODEPENDENCIA', 'geom']\n",
    "dependencia = dependencia.rename(columns = {'nome' : 'Cidade'}).loc[:,cols]\n",
    "# Checando - Ok\n",
    "dependencia.head(5)"
   ]
  },
  {
   "cell_type": "code",
   "execution_count": null,
   "metadata": {},
   "outputs": [],
   "source": [
    "# Juntando -  Deu certo\n",
    "merged_dfs = pd.merge(df, dependencia, on = 'Cidade')\n",
    "merged_dfs.head()"
   ]
  },
  {
   "cell_type": "markdown",
   "metadata": {},
   "source": [
    "# No final das contas não faz tanto sentido usar esse df de dependencia, é melhor focar em população e renda"
   ]
  },
  {
   "cell_type": "markdown",
   "metadata": {},
   "source": [
    "# Usando geopandas de fato\n",
    "https://www.alura.com.br/conteudo/geopandas-dados-geoespaciais\n",
    "\n",
    "Vídeos muito bons, apresenta um arquivo do ibge com os poligonos capazes de serem plotados direto no .plot(), desse link: geoftp.ibge.gov.br/organizacao_do_territorio/malhas_territoriais/malhas_municipais/municipio_2017/UFs/\n",
    "\n",
    "- Baixei a pasta do Brasil separado por municípios"
   ]
  },
  {
   "cell_type": "code",
   "execution_count": null,
   "metadata": {},
   "outputs": [],
   "source": [
    "# Visualizando Arquivo\n",
    "br = gpd.read_file('br_municipios/BRMUE250GC_SIR.shp')\n",
    "br"
   ]
  },
  {
   "cell_type": "code",
   "execution_count": null,
   "metadata": {},
   "outputs": [],
   "source": [
    "# Finalmente funfou porra! desvantagem comparado ao folium - não é dinâmico\n",
    "# Daria pra pegar só do nordeste, faria mais sentido pra análise, além de ficar mais leve e com melhor zoom\n",
    "br.plot(figsize=(30, 16))"
   ]
  },
  {
   "cell_type": "markdown",
   "metadata": {},
   "source": [
    "# Juntando com tabela de população"
   ]
  },
  {
   "cell_type": "code",
   "execution_count": null,
   "metadata": {},
   "outputs": [],
   "source": [
    "pop_estimada = pd.read_csv('tabela6579_pop.csv', sep='delimiter')\n",
    "# ou pop_estimada = pd.read_csv('tabela6579_pop.csv', on_bad_lines='skip')\n",
    "pop_estimada"
   ]
  },
  {
   "cell_type": "code",
   "execution_count": null,
   "metadata": {},
   "outputs": [],
   "source": [
    "pop_residente = pd.read_excel('tabela1378_pop_residente.xlsx', usecols=)"
   ]
  },
  {
   "cell_type": "code",
   "execution_count": null,
   "metadata": {},
   "outputs": [],
   "source": [
    "pop_residente"
   ]
  },
  {
   "cell_type": "code",
   "execution_count": null,
   "metadata": {},
   "outputs": [],
   "source": []
  }
 ],
 "metadata": {
  "kernelspec": {
   "display_name": "Python 3",
   "language": "python",
   "name": "python3"
  },
  "language_info": {
   "codemirror_mode": {
    "name": "ipython",
    "version": 3
   },
   "file_extension": ".py",
   "mimetype": "text/x-python",
   "name": "python",
   "nbconvert_exporter": "python",
   "pygments_lexer": "ipython3",
   "version": "3.8.5"
  }
 },
 "nbformat": 4,
 "nbformat_minor": 4
}
